{
  "cells": [
    {
      "cell_type": "markdown",
      "id": "293f8d2e",
      "metadata": {
        "id": "293f8d2e"
      },
      "source": [
        "# Multilingual GPT Chatbot\n",
        "\n",
        "This project is aimed to implement a simple chatbot that automatically detects whether the user is speaking English or German, translates messages as needed using Google Translate, and responds intelligently using OpenAI’s GPT. Designed to be lightweight, cost-free (except GPT usage)."
      ]
    },
    {
      "cell_type": "code",
      "source": [
        "# Mounting to Google Drive\n",
        "from google.colab import drive\n",
        "drive.mount('/content/drive')"
      ],
      "metadata": {
        "colab": {
          "base_uri": "https://localhost:8080/"
        },
        "id": "vtQddpYYVH2s",
        "outputId": "edc01826-a1f5-4701-aaa5-d5e01b96460f"
      },
      "id": "vtQddpYYVH2s",
      "execution_count": 1,
      "outputs": [
        {
          "output_type": "stream",
          "name": "stdout",
          "text": [
            "Mounted at /content/drive\n"
          ]
        }
      ]
    },
    {
      "cell_type": "code",
      "source": [
        "cd \"your-path-here\""
      ],
      "metadata": {
        "id": "Ud5bgoLnD2dP"
      },
      "id": "Ud5bgoLnD2dP",
      "execution_count": null,
      "outputs": []
    },
    {
      "cell_type": "code",
      "source": [
        "#Install Dependencies\n",
        "%%capture\n",
        "!pip install openai deep-translator langdetect\n",
        "!pip install --upgrade openai"
      ],
      "metadata": {
        "id": "mv3zU3GR8Fe9"
      },
      "id": "mv3zU3GR8Fe9",
      "execution_count": 14,
      "outputs": []
    },
    {
      "cell_type": "code",
      "source": [
        "# Import libraries\n",
        "%%capture\n",
        "import os\n",
        "import openai\n",
        "from openai import OpenAI\n",
        "from langdetect import detect\n",
        "from deep_translator import GoogleTranslator\n",
        "import textwrap"
      ],
      "metadata": {
        "id": "TUfF2vTH8i3W"
      },
      "id": "TUfF2vTH8i3W",
      "execution_count": 30,
      "outputs": []
    },
    {
      "cell_type": "code",
      "source": [
        "# Set your OpenAI API key\n",
        "openai.api_key = \"your-openai-api-key-here\"\n"
      ],
      "metadata": {
        "id": "6jm6eQYk8Fhh"
      },
      "id": "6jm6eQYk8Fhh",
      "execution_count": 26,
      "outputs": []
    },
    {
      "cell_type": "code",
      "source": [
        "# Language Detection\n",
        "\n",
        "def detect_lang(text: str) -> str:\n",
        "    try:\n",
        "        return detect(text)\n",
        "    except:\n",
        "        return \"unknown\""
      ],
      "metadata": {
        "id": "qiFM5K5j8FkV"
      },
      "id": "qiFM5K5j8FkV",
      "execution_count": 21,
      "outputs": []
    },
    {
      "cell_type": "code",
      "source": [
        "# Translation Layer (Google Translate via deep-translator)\n",
        "\n",
        "def translate(text: str, target: str) -> str:\n",
        "    return GoogleTranslator(source='auto', target=target).translate(text)"
      ],
      "metadata": {
        "id": "yNyjy4We8Fm6"
      },
      "id": "yNyjy4We8Fm6",
      "execution_count": 22,
      "outputs": []
    },
    {
      "cell_type": "code",
      "source": [
        "# OpenAI GPT Chat Wrapper\n",
        "\n",
        "client = OpenAI(api_key=openai.api_key)\n",
        "\n",
        "def gpt_chat(prompt: str, model=\"gpt-3.5-turbo\") -> str:\n",
        "    response = client.chat.completions.create(\n",
        "        model=model,\n",
        "        messages=[\n",
        "            {\"role\": \"system\", \"content\": \"You are a helpful assistant.\"},\n",
        "            {\"role\": \"user\", \"content\": prompt}\n",
        "        ]\n",
        "    )\n",
        "    return response.choices[0].message.content"
      ],
      "metadata": {
        "id": "mJevjFKS8Fpv"
      },
      "id": "mJevjFKS8Fpv",
      "execution_count": 27,
      "outputs": []
    },
    {
      "cell_type": "code",
      "source": [
        "# Multilingual Chat Function\n",
        "\n",
        "def multilingual_chat(text: str, model=\"gpt-3.5-turbo\") -> str:\n",
        "    source_lang = detect_lang(text)\n",
        "    intermediate = translate(text, \"en\") if source_lang != \"en\" else text\n",
        "    reply_en = gpt_chat(intermediate, model=model)\n",
        "    return translate(reply_en, source_lang) if source_lang != \"en\" else reply_en"
      ],
      "metadata": {
        "id": "7vS9jo_p8FsU"
      },
      "id": "7vS9jo_p8FsU",
      "execution_count": 28,
      "outputs": []
    },
    {
      "cell_type": "code",
      "source": [
        "# Interactive CLI for Testing\n",
        "\n",
        "while True:\n",
        "    user_input = input(\"\\n👤 You: \")\n",
        "    if user_input.lower() in {\"exit\", \"quit\"}:\n",
        "        break\n",
        "    response = multilingual_chat(user_input)\n",
        "    # Wrap text for better readability\n",
        "    wrapped = textwrap.fill(response, width=100)\n",
        "    print(\"\\n🤖 Bot:\\n\", wrapped)"
      ],
      "metadata": {
        "colab": {
          "base_uri": "https://localhost:8080/"
        },
        "id": "Qm4tJotW8FvK",
        "outputId": "c85ee54c-ffd4-42dc-d2a1-dc0eefcb8aa0"
      },
      "id": "Qm4tJotW8FvK",
      "execution_count": 31,
      "outputs": [
        {
          "name": "stdout",
          "output_type": "stream",
          "text": [
            "\n",
            "👤 You: What are the main differences between machine learning and deep learning?\n",
            "\n",
            "🤖 Bot:\n",
            " Machine learning and deep learning are both subfields of artificial intelligence, but there are some\n",
            "key differences between the two:  1. **Architecture**: Machine learning uses algorithms to parse\n",
            "data, learn from that data, and then make informed decisions or predictions based on that data. Deep\n",
            "learning is a subset of machine learning where artificial neural networks, inspired by the structure\n",
            "of the human brain, are used to learn from large amounts of data.  2. **Feature Engineering**: In\n",
            "traditional machine learning, domain experts need to manually extract relevant features from the\n",
            "data to input into the model. In deep learning, the neural network learns these features\n",
            "automatically from the raw data, which can be an advantage in many scenarios.  3. **Model\n",
            "Complexity**: Deep learning models are typically more complex and have many layers of interconnected\n",
            "nodes, hence the term \"deep.\" These models require more data and computational power to train\n",
            "compared to traditional machine learning models.  4. **Performance**: Deep learning models have\n",
            "shown superior performance in tasks such as image and speech recognition, natural language\n",
            "processing, and playing games. Machine learning is still widely used for a variety of tasks and\n",
            "often performs well in scenarios where there is limited data or when interpretability is important.\n",
            "5. **Interpretability**: Machine learning models are generally more interpretable than deep learning\n",
            "models. This means it is easier to understand how a machine learning model has arrived at its\n",
            "predictions or recommendations, which is important in industries where regulatory compliance or\n",
            "ethical considerations are key.  In summary, deep learning is a subset of machine learning that uses\n",
            "neural networks to learn from data, while traditional machine learning encompasses a broader range\n",
            "of algorithms that may require manual feature engineering. Selecting the appropriate approach\n",
            "depends on the specific problem, available data, computational resources, and the need for\n",
            "interpretability.\n",
            "\n",
            "👤 You: Can you explain how blockchain technology works in simple terms?\n",
            "\n",
            "🤖 Bot:\n",
            " Of course! Imagine a blockchain as a digital ledger, or a record book, where all transactions are\n",
            "stored in a chain of connected blocks. Each block holds a list of transactions, and every time a new\n",
            "transaction occurs, it is added to a new block.   This chain of blocks is decentralized, which means\n",
            "there is no central authority controlling it. Instead, the blockchain is maintained by a network of\n",
            "computers (nodes) that work together to validate and record transactions.  One of the key features\n",
            "of blockchain technology is its security and transparency. Each block contains a unique code called\n",
            "a hash that is linked to the previous block's hash, creating a secure chain. Also, transactions on\n",
            "the blockchain are verified by multiple nodes in the network, making it difficult for anyone to\n",
            "tamper with the data.  Overall, blockchain technology allows for secure, transparent, and tamper-\n",
            "resistant record-keeping and transactions without the need for a central authority.\n",
            "\n",
            "👤 You: Was ist der Unterschied zwischen einem Virus und einem Bakterium?\n",
            "\n",
            "🤖 Bot:\n",
            " Viren und Bakterien sind beide Arten von Mikroorganismen, haben jedoch einige wichtige Unterschiede:\n",
            "1. Struktur: Bakterien sind komplexe Einzelzellorganismen mit Zellwand und Zellmaschinerie für den\n",
            "Stoffwechsel und die Fortpflanzung. Viren hingegen sind viel einfacher und bestehen aus genetischem\n",
            "Material (DNA oder RNA), die von einer Proteinschicht umgeben sind.  2. Fortpflanzung: Bakterien\n",
            "sind lebende Organismen, die sich unabhängig reproduzieren können, indem sie durch binäre Spaltung\n",
            "in zwei identische Zellen unterteilt werden. Viren sind jedoch nicht am Leben und müssen eine\n",
            "Wirtszelle infizieren, um die Maschinerie der Wirtszelle zu entführen.  3. Behandlung: Antibiotika\n",
            "können zur Behandlung von bakteriellen Infektionen eingesetzt werden, indem die Zellwand oder der\n",
            "Metabolismus der Bakterien abzielt. Viren werden jedoch nicht von Antibiotika betroffen, da sie\n",
            "nicht am Leben sind. Antivirale Medikamente können zur Behandlung von Virusinfektionen verwendet\n",
            "werden, indem bestimmte Stadien des Virus -Lebenszyklus abzielen.  4. Größe: Bakterien sind\n",
            "typischerweise größer als Viren. Die Größe von Bakterien hat eine Größe von etwa 1 bis 10\n",
            "Mikrometern, während die Viren normalerweise kleiner sind und zwischen 20 und 300 Nanometern\n",
            "reichen.  5. Wirtsbereich: Bakterien können eine breite Palette von Wirten infizieren, darunter\n",
            "Menschen, Tiere, Pflanzen und sogar leblose Objekte. Viren sind in ihrem Wirtsbereich hochspezifisch\n",
            "und können nur bestimmte Zellenarten innerhalb eines Wirtsorganismus infizieren.  Zusammenfassend\n",
            "sind Bakterien lebende, einzelne Organismen, die sich unabhängig vermehren können, während Viren\n",
            "nicht lebende Partikel sind, die eine Wirtszelle benötigen, um sich zu reproduzieren. Sie haben\n",
            "unterschiedliche Strukturen, Fortpflanzungsmodi, Wirtsbereiche und Reaktionen auf die Behandlung.\n",
            "\n",
            "👤 You: Wie funktioniert ein Elektromotor?\n",
            "\n",
            "🤖 Bot:\n",
            " Ein Elektromotor arbeitet durch Umwandlung elektrischer Energie in mechanische Energie. Es besteht\n",
            "typischerweise aus Drahtspulen, die einen elektrischen Strom tragen und von einem Magnetfeld umgeben\n",
            "sind. Wenn der elektrische Strom durch die Spulen fließt, erzeugt er eine Kraft, die mit dem\n",
            "Magnetfeld interagiert und die Spulen dreht.  Diese Rotation wird dann auf die Welle des Motors\n",
            "überführt, mit der verschiedene mechanische Geräte oder Maschinen mit Strom versorgt werden können.\n",
            "Durch die Steuerung des Stromflusss zu den Spulen können die Geschwindigkeit und Richtung des Motors\n",
            "gesteuert werden. Dieses Grundprinzip wird in einer Vielzahl von Geräten verwendet, von kleinen\n",
            "Haushaltsgeräten bis hin zu Industriegeräten.\n",
            "\n",
            "👤 You: Welche Vorteile bietet Remote-Arbeit für Unternehmen?\n",
            "\n",
            "🤖 Bot:\n",
            " Es gibt mehrere Vorteile von Fernarbeit für Unternehmen, darunter:  1. Erhöhte Produktivität:\n",
            "Fernarbeiter erfahren häufig weniger Ablenkungen als in einer traditionellen Büroumgebung, was zu\n",
            "einer verbesserten Fokus und Produktivität führt.  2. Kosteneinsparungen: Unternehmen können Geld\n",
            "für Büroflächen, Versorgungsunternehmen und andere Gemeinkosten sparen, wenn Mitarbeiter aus der\n",
            "Ferne arbeiten.  3. Erweiterter Talentpool: Remote -Arbeiten ermöglicht es Unternehmen, das beste\n",
            "Talent von überall auf der Welt einzustellen, ohne durch geografische Grenzen begrenzt zu werden.\n",
            "4. Verbesserte Mitarbeiterbindung: Das Anbieten von Fernarbeitsoptionen kann Unternehmen dabei\n",
            "helfen, Top-Talente anzuziehen und zu behalten, indem sie den Mitarbeitern Flexibilität und Work-\n",
            "Life-Balance bieten.  5. Reduzierter Pendelstress: Fernarbeit beseitigt die Notwendigkeit, dass\n",
            "Mitarbeiter zum Büro pendeln, Zeit sparen und Stress verringern.  6. Umweltvorteile: Mit weniger\n",
            "Mitarbeitern, die ins Büro pendeln, können Unternehmen ihren CO2 -Fußabdruck reduzieren und zu einem\n",
            "nachhaltigeren Umfeld beitragen.  Insgesamt kann Fernarbeit zu einem effizienteren,\n",
            "kostengünstigeren und flexibleren Arbeitsumfeld für Unternehmen führen.\n",
            "\n",
            "👤 You: exit\n"
          ]
        }
      ]
    }
  ],
  "metadata": {
    "colab": {
      "provenance": []
    },
    "language_info": {
      "name": "python"
    },
    "kernelspec": {
      "name": "python3",
      "display_name": "Python 3"
    }
  },
  "nbformat": 4,
  "nbformat_minor": 5
}